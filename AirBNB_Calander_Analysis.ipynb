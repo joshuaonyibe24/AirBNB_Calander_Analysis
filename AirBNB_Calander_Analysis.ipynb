{
 "cells": [
  {
   "cell_type": "code",
   "execution_count": 33,
   "id": "00c2a278",
   "metadata": {},
   "outputs": [],
   "source": [
    "#import dependencies\n",
    "\n",
    "import numpy as np\n",
    "import pandas as pd\n",
    "import matplotlib.pyplot as plt\n",
    "import seaborn as sns\n"
   ]
  },
  {
   "cell_type": "code",
   "execution_count": 34,
   "id": "2476a74c",
   "metadata": {},
   "outputs": [],
   "source": [
    "#using pandas to access the csv file\n",
    "calendar = pd.read_csv('calendar.csv')"
   ]
  },
  {
   "cell_type": "markdown",
   "id": "5307054c",
   "metadata": {},
   "source": [
    "# ANALYSING THE DATASET"
   ]
  },
  {
   "cell_type": "code",
   "execution_count": 35,
   "id": "ab923a93",
   "metadata": {},
   "outputs": [
    {
     "data": {
      "text/html": [
       "<div>\n",
       "<style scoped>\n",
       "    .dataframe tbody tr th:only-of-type {\n",
       "        vertical-align: middle;\n",
       "    }\n",
       "\n",
       "    .dataframe tbody tr th {\n",
       "        vertical-align: top;\n",
       "    }\n",
       "\n",
       "    .dataframe thead th {\n",
       "        text-align: right;\n",
       "    }\n",
       "</style>\n",
       "<table border=\"1\" class=\"dataframe\">\n",
       "  <thead>\n",
       "    <tr style=\"text-align: right;\">\n",
       "      <th></th>\n",
       "      <th>listing_id</th>\n",
       "      <th>date</th>\n",
       "      <th>available</th>\n",
       "      <th>price</th>\n",
       "    </tr>\n",
       "  </thead>\n",
       "  <tbody>\n",
       "    <tr>\n",
       "      <th>0</th>\n",
       "      <td>241032</td>\n",
       "      <td>2016-01-04</td>\n",
       "      <td>t</td>\n",
       "      <td>$85.00</td>\n",
       "    </tr>\n",
       "    <tr>\n",
       "      <th>1</th>\n",
       "      <td>241032</td>\n",
       "      <td>2016-01-05</td>\n",
       "      <td>t</td>\n",
       "      <td>$85.00</td>\n",
       "    </tr>\n",
       "    <tr>\n",
       "      <th>2</th>\n",
       "      <td>241032</td>\n",
       "      <td>2016-01-06</td>\n",
       "      <td>f</td>\n",
       "      <td>NaN</td>\n",
       "    </tr>\n",
       "    <tr>\n",
       "      <th>3</th>\n",
       "      <td>241032</td>\n",
       "      <td>2016-01-07</td>\n",
       "      <td>f</td>\n",
       "      <td>NaN</td>\n",
       "    </tr>\n",
       "    <tr>\n",
       "      <th>4</th>\n",
       "      <td>241032</td>\n",
       "      <td>2016-01-08</td>\n",
       "      <td>f</td>\n",
       "      <td>NaN</td>\n",
       "    </tr>\n",
       "  </tbody>\n",
       "</table>\n",
       "</div>"
      ],
      "text/plain": [
       "   listing_id        date available   price\n",
       "0      241032  2016-01-04         t  $85.00\n",
       "1      241032  2016-01-05         t  $85.00\n",
       "2      241032  2016-01-06         f     NaN\n",
       "3      241032  2016-01-07         f     NaN\n",
       "4      241032  2016-01-08         f     NaN"
      ]
     },
     "execution_count": 35,
     "metadata": {},
     "output_type": "execute_result"
    }
   ],
   "source": [
    "#this helps us to see the first 5 coloumns \n",
    "calendar.head()"
   ]
  },
  {
   "cell_type": "code",
   "execution_count": 36,
   "id": "9d75db76",
   "metadata": {},
   "outputs": [
    {
     "name": "stdout",
     "output_type": "stream",
     "text": [
      "<class 'pandas.core.frame.DataFrame'>\n",
      "RangeIndex: 1393570 entries, 0 to 1393569\n",
      "Data columns (total 4 columns):\n",
      " #   Column      Non-Null Count    Dtype \n",
      "---  ------      --------------    ----- \n",
      " 0   listing_id  1393570 non-null  int64 \n",
      " 1   date        1393570 non-null  object\n",
      " 2   available   1393570 non-null  object\n",
      " 3   price       934542 non-null   object\n",
      "dtypes: int64(1), object(3)\n",
      "memory usage: 42.5+ MB\n"
     ]
    }
   ],
   "source": [
    "#this helps use to the data tpes and null values in the data set \n",
    "calendar.info()"
   ]
  },
  {
   "cell_type": "code",
   "execution_count": 37,
   "id": "78174bfc",
   "metadata": {},
   "outputs": [
    {
     "data": {
      "text/html": [
       "<div>\n",
       "<style scoped>\n",
       "    .dataframe tbody tr th:only-of-type {\n",
       "        vertical-align: middle;\n",
       "    }\n",
       "\n",
       "    .dataframe tbody tr th {\n",
       "        vertical-align: top;\n",
       "    }\n",
       "\n",
       "    .dataframe thead th {\n",
       "        text-align: right;\n",
       "    }\n",
       "</style>\n",
       "<table border=\"1\" class=\"dataframe\">\n",
       "  <thead>\n",
       "    <tr style=\"text-align: right;\">\n",
       "      <th></th>\n",
       "      <th>listing_id</th>\n",
       "    </tr>\n",
       "  </thead>\n",
       "  <tbody>\n",
       "    <tr>\n",
       "      <th>count</th>\n",
       "      <td>1.393570e+06</td>\n",
       "    </tr>\n",
       "    <tr>\n",
       "      <th>mean</th>\n",
       "      <td>5.550111e+06</td>\n",
       "    </tr>\n",
       "    <tr>\n",
       "      <th>std</th>\n",
       "      <td>2.962274e+06</td>\n",
       "    </tr>\n",
       "    <tr>\n",
       "      <th>min</th>\n",
       "      <td>3.335000e+03</td>\n",
       "    </tr>\n",
       "    <tr>\n",
       "      <th>25%</th>\n",
       "      <td>3.258213e+06</td>\n",
       "    </tr>\n",
       "    <tr>\n",
       "      <th>50%</th>\n",
       "      <td>6.118244e+06</td>\n",
       "    </tr>\n",
       "    <tr>\n",
       "      <th>75%</th>\n",
       "      <td>8.035212e+06</td>\n",
       "    </tr>\n",
       "    <tr>\n",
       "      <th>max</th>\n",
       "      <td>1.034016e+07</td>\n",
       "    </tr>\n",
       "  </tbody>\n",
       "</table>\n",
       "</div>"
      ],
      "text/plain": [
       "         listing_id\n",
       "count  1.393570e+06\n",
       "mean   5.550111e+06\n",
       "std    2.962274e+06\n",
       "min    3.335000e+03\n",
       "25%    3.258213e+06\n",
       "50%    6.118244e+06\n",
       "75%    8.035212e+06\n",
       "max    1.034016e+07"
      ]
     },
     "execution_count": 37,
     "metadata": {},
     "output_type": "execute_result"
    }
   ],
   "source": [
    "calendar.describe()"
   ]
  },
  {
   "cell_type": "code",
   "execution_count": 38,
   "id": "f6daf0f2",
   "metadata": {},
   "outputs": [
    {
     "data": {
      "text/plain": [
       "(1393570, 4)"
      ]
     },
     "execution_count": 38,
     "metadata": {},
     "output_type": "execute_result"
    }
   ],
   "source": [
    "#the shows the rows and columns\n",
    "calendar.shape"
   ]
  },
  {
   "cell_type": "code",
   "execution_count": 12,
   "id": "93fe6e18",
   "metadata": {},
   "outputs": [
    {
     "data": {
      "text/plain": [
       "\"this are the questions posed from this dataset \\nquestion 1 what is the average cost \\nquestion 2 what's the busiest  time of the year\\nquestion 3 what's the most expensive and cheapest time of the year\""
      ]
     },
     "execution_count": 12,
     "metadata": {},
     "output_type": "execute_result"
    }
   ],
   "source": [
    "'''this are the questions posed from this dataset \n",
    "question 1 what is the average cost \n",
    "question 2 what's the busiest  time of the year\n",
    "question 3 what's the most expensive and cheapest time of the year'''"
   ]
  },
  {
   "cell_type": "code",
   "execution_count": 39,
   "id": "3c55e352",
   "metadata": {},
   "outputs": [],
   "source": [
    "# question 1\n",
    "# breaking down date column date to month year and  day\n",
    "calendar['date'] = pd.to_datetime(calendar['date'])\n",
    "calendar['month'] = calendar['date'].dt.month\n",
    "calendar['year'] = calendar['date'].dt.year\n",
    "calendar['day'] = calendar['date'].dt.day"
   ]
  },
  {
   "cell_type": "code",
   "execution_count": 40,
   "id": "74971042",
   "metadata": {},
   "outputs": [],
   "source": [
    "# since available columns t and f wwe can simply replace them with 1 and 0\n",
    "calendar['available'].replace({'t':1,'f':0},inplace=True)\n"
   ]
  },
  {
   "cell_type": "code",
   "execution_count": 41,
   "id": "5253af5e",
   "metadata": {},
   "outputs": [],
   "source": [
    "# Replace '$' with an empty string and convert to numeric\n",
    "calendar['price'] = pd.to_numeric(calendar['price'].replace('[\\$,]', '', regex=True), errors='coerce')"
   ]
  },
  {
   "cell_type": "code",
   "execution_count": 42,
   "id": "022c347c",
   "metadata": {},
   "outputs": [],
   "source": [
    "mean_price = calendar['price'].mean()\n",
    "calendar['price'].fillna(mean_price, inplace=True)"
   ]
  },
  {
   "cell_type": "code",
   "execution_count": 43,
   "id": "99fbccb3",
   "metadata": {},
   "outputs": [],
   "source": [
    "# Calculate the average price per night for each month\n",
    "usual_price_per_month = calendar.groupby(['year', 'month'])['price'].mean()\n"
   ]
  },
  {
   "cell_type": "code",
   "execution_count": 44,
   "id": "af75bb3c",
   "metadata": {},
   "outputs": [
    {
     "data": {
      "text/html": [
       "<div>\n",
       "<style scoped>\n",
       "    .dataframe tbody tr th:only-of-type {\n",
       "        vertical-align: middle;\n",
       "    }\n",
       "\n",
       "    .dataframe tbody tr th {\n",
       "        vertical-align: top;\n",
       "    }\n",
       "\n",
       "    .dataframe thead th {\n",
       "        text-align: right;\n",
       "    }\n",
       "</style>\n",
       "<table border=\"1\" class=\"dataframe\">\n",
       "  <thead>\n",
       "    <tr style=\"text-align: right;\">\n",
       "      <th></th>\n",
       "      <th>listing_id</th>\n",
       "      <th>date</th>\n",
       "      <th>available</th>\n",
       "      <th>price</th>\n",
       "      <th>month</th>\n",
       "      <th>year</th>\n",
       "      <th>day</th>\n",
       "    </tr>\n",
       "  </thead>\n",
       "  <tbody>\n",
       "    <tr>\n",
       "      <th>0</th>\n",
       "      <td>241032</td>\n",
       "      <td>2016-01-04</td>\n",
       "      <td>1</td>\n",
       "      <td>85.000000</td>\n",
       "      <td>1</td>\n",
       "      <td>2016</td>\n",
       "      <td>4</td>\n",
       "    </tr>\n",
       "    <tr>\n",
       "      <th>1</th>\n",
       "      <td>241032</td>\n",
       "      <td>2016-01-05</td>\n",
       "      <td>1</td>\n",
       "      <td>85.000000</td>\n",
       "      <td>1</td>\n",
       "      <td>2016</td>\n",
       "      <td>5</td>\n",
       "    </tr>\n",
       "    <tr>\n",
       "      <th>2</th>\n",
       "      <td>241032</td>\n",
       "      <td>2016-01-06</td>\n",
       "      <td>0</td>\n",
       "      <td>137.944859</td>\n",
       "      <td>1</td>\n",
       "      <td>2016</td>\n",
       "      <td>6</td>\n",
       "    </tr>\n",
       "    <tr>\n",
       "      <th>3</th>\n",
       "      <td>241032</td>\n",
       "      <td>2016-01-07</td>\n",
       "      <td>0</td>\n",
       "      <td>137.944859</td>\n",
       "      <td>1</td>\n",
       "      <td>2016</td>\n",
       "      <td>7</td>\n",
       "    </tr>\n",
       "    <tr>\n",
       "      <th>4</th>\n",
       "      <td>241032</td>\n",
       "      <td>2016-01-08</td>\n",
       "      <td>0</td>\n",
       "      <td>137.944859</td>\n",
       "      <td>1</td>\n",
       "      <td>2016</td>\n",
       "      <td>8</td>\n",
       "    </tr>\n",
       "  </tbody>\n",
       "</table>\n",
       "</div>"
      ],
      "text/plain": [
       "   listing_id       date  available       price  month  year  day\n",
       "0      241032 2016-01-04          1   85.000000      1  2016    4\n",
       "1      241032 2016-01-05          1   85.000000      1  2016    5\n",
       "2      241032 2016-01-06          0  137.944859      1  2016    6\n",
       "3      241032 2016-01-07          0  137.944859      1  2016    7\n",
       "4      241032 2016-01-08          0  137.944859      1  2016    8"
      ]
     },
     "execution_count": 44,
     "metadata": {},
     "output_type": "execute_result"
    }
   ],
   "source": [
    "calendar.head()"
   ]
  },
  {
   "cell_type": "code",
   "execution_count": 45,
   "id": "d62cdf85",
   "metadata": {},
   "outputs": [
    {
     "data": {
      "image/png": "[encoded data removed]",
      "text/plain": [
       "<Figure size 1200x600 with 1 Axes>"
      ]
     },
     "metadata": {},
     "output_type": "display_data"
    }
   ],
   "source": [
    "# Plotting\n",
    "plt.figure(figsize=(12, 6))\n",
    "usual_price_per_month.plot(marker='o', linestyle='-')\n",
    "plt.title('Usual Price per Night Over Months')\n",
    "plt.xlabel('Month')\n",
    "plt.ylabel(' Price ')\n",
    "plt.grid(True)\n",
    "plt.show()"
   ]
  },
  {
   "cell_type": "code",
   "execution_count": 46,
   "id": "2a04b673",
   "metadata": {},
   "outputs": [
    {
     "name": "stdout",
     "output_type": "stream",
     "text": [
      "       avg_Monthly_Price  Aval_Month\n",
      "Month                               \n",
      "12            137.435089    0.735573\n",
      "11            136.334019    0.713986\n",
      "3             131.349153    0.709187\n",
      "10            137.308997    0.696514\n",
      "5             139.021420    0.675670\n",
      "9             141.526668    0.674402\n",
      "6             144.370582    0.674384\n",
      "4             136.054321    0.663847\n",
      "2             128.905102    0.662208\n",
      "8             146.144582    0.645051\n",
      "7             146.817843    0.627097\n",
      "1             129.422270    0.566937\n"
     ]
    }
   ],
   "source": [
    "# Extract month from the 'date' column\n",
    "calendar['Month'] = pd.DatetimeIndex(calendar['date']).month\n",
    "\n",
    "# Group by month and calculate average monthly price and availability rate\n",
    "Grouped_Month = calendar.groupby(\"Month\").agg(\n",
    "    avg_Monthly_Price=(\"price\", \"mean\"),\n",
    "    Aval_Month=(\"available\", \"mean\")\n",
    ").sort_values(by=\"Aval_Month\", ascending=False)\n",
    "\n",
    "# Print the grouped data\n",
    "print(Grouped_Month)"
   ]
  },
  {
   "cell_type": "code",
   "execution_count": 48,
   "id": "d5c0839b",
   "metadata": {},
   "outputs": [
    {
     "data": {
      "text/plain": [
       "'\\n   the details  above shows that july being the  seventh month of the year on average is the most expensive and january being the first month of the year on average is the cheapest \\n'"
      ]
     },
     "execution_count": 48,
     "metadata": {},
     "output_type": "execute_result"
    }
   ],
   "source": [
    "'''\n",
    "   the details  above shows that july being the  seventh month of the year on average is the most expensive and january being the first month of the year on average is the cheapest \n",
    "'''"
   ]
  },
  {
   "cell_type": "code",
   "execution_count": 49,
   "id": "c5ec80af",
   "metadata": {},
   "outputs": [
    {
     "data": {
      "text/plain": [
       "'  it also shows that the summer time is the busiest time of the year  and the most expensive time of the year  '"
      ]
     },
     "execution_count": 49,
     "metadata": {},
     "output_type": "execute_result"
    }
   ],
   "source": [
    "'''  it also shows that the summer time is the busiest time of the year  and the most expensive time of the year  '''"
   ]
  },
  {
   "cell_type": "code",
   "execution_count": 50,
   "id": "6a1bfcd2",
   "metadata": {},
   "outputs": [
    {
     "data": {
      "text/plain": [
       "' also  by calcuating the mean of price we can say that the averge price per night is $137 '"
      ]
     },
     "execution_count": 50,
     "metadata": {},
     "output_type": "execute_result"
    }
   ],
   "source": [
    "''' also  by calcuating the mean of price we can say that the averge price per night is $137 '''"
   ]
  },
  {
   "cell_type": "code",
   "execution_count": null,
   "id": "0da7b597",
   "metadata": {},
   "outputs": [],
   "source": []
  }
 ],
 "metadata": {
  "kernelspec": {
   "display_name": "Python 3 (ipykernel)",
   "language": "python",
   "name": "python3"
  },
  "language_info": {
   "codemirror_mode": {
    "name": "ipython",
    "version": 3
   },
   "file_extension": ".py",
   "mimetype": "text/x-python",
   "name": "python",
   "nbconvert_exporter": "python",
   "pygments_lexer": "ipython3",
   "version": "3.9.13"
  }
 },
 "nbformat": 4,
 "nbformat_minor": 5
}
